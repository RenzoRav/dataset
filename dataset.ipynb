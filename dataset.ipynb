{
 "cells": [
  {
   "cell_type": "code",
   "execution_count": 8,
   "id": "7cfccc7e",
   "metadata": {},
   "outputs": [],
   "source": [
    "import pandas as pd\n",
    "import numpy as np\n",
    "import matplotlib.pyplot as plt\n",
    "import seaborn as sns\n"
   ]
  },
  {
   "cell_type": "code",
   "execution_count": 9,
   "id": "51afbe3b",
   "metadata": {},
   "outputs": [
    {
     "data": {
      "text/html": [
       "<div>\n",
       "<style scoped>\n",
       "    .dataframe tbody tr th:only-of-type {\n",
       "        vertical-align: middle;\n",
       "    }\n",
       "\n",
       "    .dataframe tbody tr th {\n",
       "        vertical-align: top;\n",
       "    }\n",
       "\n",
       "    .dataframe thead th {\n",
       "        text-align: right;\n",
       "    }\n",
       "</style>\n",
       "<table border=\"1\" class=\"dataframe\">\n",
       "  <thead>\n",
       "    <tr style=\"text-align: right;\">\n",
       "      <th></th>\n",
       "      <th>ID</th>\n",
       "      <th>Nome</th>\n",
       "      <th>Idade</th>\n",
       "      <th>Cidade</th>\n",
       "      <th>Produto</th>\n",
       "      <th>Preço</th>\n",
       "      <th>Quantidade</th>\n",
       "      <th>Data_Compra</th>\n",
       "    </tr>\n",
       "  </thead>\n",
       "  <tbody>\n",
       "    <tr>\n",
       "      <th>0</th>\n",
       "      <td>1</td>\n",
       "      <td>Mariana</td>\n",
       "      <td>48.0</td>\n",
       "      <td>FORTALEZA</td>\n",
       "      <td>Tablet</td>\n",
       "      <td>2010,87</td>\n",
       "      <td>7</td>\n",
       "      <td>30-05-2024</td>\n",
       "    </tr>\n",
       "    <tr>\n",
       "      <th>1</th>\n",
       "      <td>2</td>\n",
       "      <td>Bruno</td>\n",
       "      <td>42.0</td>\n",
       "      <td>RIO DE JANEIRO</td>\n",
       "      <td>Teclado</td>\n",
       "      <td>NaN</td>\n",
       "      <td>6</td>\n",
       "      <td>12-04-2025</td>\n",
       "    </tr>\n",
       "    <tr>\n",
       "      <th>2</th>\n",
       "      <td>3</td>\n",
       "      <td>Ana</td>\n",
       "      <td>54.0</td>\n",
       "      <td>RIO DE JANEIRO</td>\n",
       "      <td>Monitor</td>\n",
       "      <td>3619.29</td>\n",
       "      <td>2</td>\n",
       "      <td>10-12-2022</td>\n",
       "    </tr>\n",
       "    <tr>\n",
       "      <th>3</th>\n",
       "      <td>4</td>\n",
       "      <td>Carlos</td>\n",
       "      <td>62.0</td>\n",
       "      <td>CURITIBA</td>\n",
       "      <td>Teclado</td>\n",
       "      <td>40415.9</td>\n",
       "      <td>8</td>\n",
       "      <td>31-12-2022</td>\n",
       "    </tr>\n",
       "    <tr>\n",
       "      <th>4</th>\n",
       "      <td>5</td>\n",
       "      <td>Mariana</td>\n",
       "      <td>60.0</td>\n",
       "      <td>CURITIBA</td>\n",
       "      <td>Notebook</td>\n",
       "      <td>716.66</td>\n",
       "      <td>8</td>\n",
       "      <td>14-09-2023</td>\n",
       "    </tr>\n",
       "    <tr>\n",
       "      <th>...</th>\n",
       "      <td>...</td>\n",
       "      <td>...</td>\n",
       "      <td>...</td>\n",
       "      <td>...</td>\n",
       "      <td>...</td>\n",
       "      <td>...</td>\n",
       "      <td>...</td>\n",
       "      <td>...</td>\n",
       "    </tr>\n",
       "    <tr>\n",
       "      <th>505</th>\n",
       "      <td>395</td>\n",
       "      <td>Bruno</td>\n",
       "      <td>46.0</td>\n",
       "      <td>CURITIBA</td>\n",
       "      <td>Headset</td>\n",
       "      <td>3321.2</td>\n",
       "      <td>2</td>\n",
       "      <td>24-08-2023</td>\n",
       "    </tr>\n",
       "    <tr>\n",
       "      <th>506</th>\n",
       "      <td>378</td>\n",
       "      <td>Mariana</td>\n",
       "      <td>62.0</td>\n",
       "      <td>MANAUS</td>\n",
       "      <td>Tablet</td>\n",
       "      <td>3282.26</td>\n",
       "      <td>3</td>\n",
       "      <td>19-05-2025</td>\n",
       "    </tr>\n",
       "    <tr>\n",
       "      <th>507</th>\n",
       "      <td>125</td>\n",
       "      <td>João</td>\n",
       "      <td>24.0</td>\n",
       "      <td>MANAUS</td>\n",
       "      <td>Headset</td>\n",
       "      <td>4529.67</td>\n",
       "      <td>5</td>\n",
       "      <td>19-02-2025</td>\n",
       "    </tr>\n",
       "    <tr>\n",
       "      <th>508</th>\n",
       "      <td>69</td>\n",
       "      <td>João</td>\n",
       "      <td>25.0</td>\n",
       "      <td>BELO HORIZONTE</td>\n",
       "      <td>Headset</td>\n",
       "      <td>31440.9</td>\n",
       "      <td>8</td>\n",
       "      <td>01-02-2024</td>\n",
       "    </tr>\n",
       "    <tr>\n",
       "      <th>509</th>\n",
       "      <td>451</td>\n",
       "      <td>Carlos</td>\n",
       "      <td>56.0</td>\n",
       "      <td>SALVADOR</td>\n",
       "      <td>Monitor</td>\n",
       "      <td>3383.77</td>\n",
       "      <td>8</td>\n",
       "      <td>04-02-2024</td>\n",
       "    </tr>\n",
       "  </tbody>\n",
       "</table>\n",
       "<p>510 rows × 8 columns</p>\n",
       "</div>"
      ],
      "text/plain": [
       "      ID     Nome  Idade          Cidade   Produto    Preço  Quantidade  \\\n",
       "0      1  Mariana   48.0       FORTALEZA    Tablet  2010,87           7   \n",
       "1      2    Bruno   42.0  RIO DE JANEIRO   Teclado      NaN           6   \n",
       "2      3      Ana   54.0  RIO DE JANEIRO   Monitor  3619.29           2   \n",
       "3      4   Carlos   62.0        CURITIBA   Teclado  40415.9           8   \n",
       "4      5  Mariana   60.0        CURITIBA  Notebook   716.66           8   \n",
       "..   ...      ...    ...             ...       ...      ...         ...   \n",
       "505  395    Bruno   46.0        CURITIBA   Headset   3321.2           2   \n",
       "506  378  Mariana   62.0          MANAUS    Tablet  3282.26           3   \n",
       "507  125     João   24.0          MANAUS   Headset  4529.67           5   \n",
       "508   69     João   25.0  BELO HORIZONTE   Headset  31440.9           8   \n",
       "509  451   Carlos   56.0        SALVADOR   Monitor  3383.77           8   \n",
       "\n",
       "    Data_Compra  \n",
       "0    30-05-2024  \n",
       "1    12-04-2025  \n",
       "2    10-12-2022  \n",
       "3    31-12-2022  \n",
       "4    14-09-2023  \n",
       "..          ...  \n",
       "505  24-08-2023  \n",
       "506  19-05-2025  \n",
       "507  19-02-2025  \n",
       "508  01-02-2024  \n",
       "509  04-02-2024  \n",
       "\n",
       "[510 rows x 8 columns]"
      ]
     },
     "execution_count": 9,
     "metadata": {},
     "output_type": "execute_result"
    }
   ],
   "source": [
    "import pandas as pd\n",
    "\n",
    "df = pd.read_csv('atividade3_dataset.csv', sep=';')\n",
    "df"
   ]
  },
  {
   "cell_type": "code",
   "execution_count": 10,
   "id": "8356956a",
   "metadata": {},
   "outputs": [
    {
     "name": "stdout",
     "output_type": "stream",
     "text": [
      "<class 'pandas.core.frame.DataFrame'>\n",
      "RangeIndex: 510 entries, 0 to 509\n",
      "Data columns (total 8 columns):\n",
      " #   Column       Non-Null Count  Dtype  \n",
      "---  ------       --------------  -----  \n",
      " 0   ID           510 non-null    int64  \n",
      " 1   Nome         510 non-null    object \n",
      " 2   Idade        489 non-null    float64\n",
      " 3   Cidade       510 non-null    object \n",
      " 4   Produto      510 non-null    object \n",
      " 5   Preço        473 non-null    object \n",
      " 6   Quantidade   510 non-null    int64  \n",
      " 7   Data_Compra  510 non-null    object \n",
      "dtypes: float64(1), int64(2), object(5)\n",
      "memory usage: 32.0+ KB\n",
      "None\n",
      "\n",
      "Valores ausentes:\n",
      "ID              0\n",
      "Nome            0\n",
      "Idade          21\n",
      "Cidade          0\n",
      "Produto         0\n",
      "Preço          37\n",
      "Quantidade      0\n",
      "Data_Compra     0\n",
      "dtype: int64\n",
      "\n",
      "Valores duplicados:\n",
      "8\n"
     ]
    }
   ],
   "source": [
    "buf = []\n",
    "print(df.info())\n",
    "print(\"\\nValores ausentes:\")\n",
    "print(df.isna().sum())\n",
    "print(\"\\nValores duplicados:\")\n",
    "print(df.duplicated().sum())\n"
   ]
  },
  {
   "cell_type": "code",
   "execution_count": 11,
   "id": "44585ce0",
   "metadata": {},
   "outputs": [
    {
     "name": "stdout",
     "output_type": "stream",
     "text": [
      "Nulos apos tratamento:\n",
      "\n",
      "ID             0\n",
      "Nome           0\n",
      "Idade          0\n",
      "Cidade         0\n",
      "Produto        0\n",
      "Preço          0\n",
      "Quantidade     0\n",
      "Data_Compra    0\n",
      "dtype: int64\n"
     ]
    },
    {
     "name": "stderr",
     "output_type": "stream",
     "text": [
      "/tmp/ipykernel_13484/110773238.py:4: FutureWarning: A value is trying to be set on a copy of a DataFrame or Series through chained assignment using an inplace method.\n",
      "The behavior will change in pandas 3.0. This inplace method will never work because the intermediate object on which we are setting values always behaves as a copy.\n",
      "\n",
      "For example, when doing 'df[col].method(value, inplace=True)', try using 'df.method({col: value}, inplace=True)' or df[col] = df[col].method(value) instead, to perform the operation inplace on the original object.\n",
      "\n",
      "\n",
      "  df['Idade'].fillna(median_idade, inplace=True)\n",
      "/tmp/ipykernel_13484/110773238.py:7: FutureWarning: A value is trying to be set on a copy of a DataFrame or Series through chained assignment using an inplace method.\n",
      "The behavior will change in pandas 3.0. This inplace method will never work because the intermediate object on which we are setting values always behaves as a copy.\n",
      "\n",
      "For example, when doing 'df[col].method(value, inplace=True)', try using 'df.method({col: value}, inplace=True)' or df[col] = df[col].method(value) instead, to perform the operation inplace on the original object.\n",
      "\n",
      "\n",
      "  df['Preço'].fillna(median_preco, inplace=True)\n"
     ]
    }
   ],
   "source": [
    "df['Preço'] = pd.to_numeric(df['Preço'], errors='coerce')\n",
    "\n",
    "median_idade = df['Idade'].median()\n",
    "df['Idade'].fillna(median_idade, inplace=True)\n",
    "\n",
    "median_preco = df['Preço'].median()\n",
    "df['Preço'].fillna(median_preco, inplace=True)\n",
    "\n",
    "preco = df['Preço'].astype(np.int64)\n",
    "\n",
    "print(\"Nulos apos tratamento:\\n\")\n",
    "print(df.isna().sum())"
   ]
  },
  {
   "cell_type": "code",
   "execution_count": 12,
   "id": "ee0a3d1a",
   "metadata": {},
   "outputs": [
    {
     "name": "stdout",
     "output_type": "stream",
     "text": [
      "Duplicados (linhas) antes da remoção:\n",
      "8\n",
      "Duplicados (linhas) após a remoção:\n",
      "0\n"
     ]
    }
   ],
   "source": [
    "print(\"Duplicados (linhas) antes da remoção:\")\n",
    "print(df.duplicated().sum())\n",
    "\n",
    "df.drop_duplicates(inplace=True)\n",
    "\n",
    "print(\"Duplicados (linhas) após a remoção:\")\n",
    "print(df.duplicated().sum())"
   ]
  },
  {
   "cell_type": "code",
   "execution_count": null,
   "id": "afdf67dc",
   "metadata": {},
   "outputs": [],
   "source": [
    "df['Preço'] = pd.to_numeric(df['Preço'], errors='coerce')\n",
    "\n",
    "df['Data_Compra'] = pd.to_datetime(df['Data_Compra'], dayfirst=True, errors='coerce')\n",
    "\n"
   ]
  },
  {
   "cell_type": "code",
   "execution_count": 16,
   "id": "fb091ad5",
   "metadata": {},
   "outputs": [
    {
     "name": "stderr",
     "output_type": "stream",
     "text": [
      "/tmp/ipykernel_13484/1446298980.py:2: FutureWarning: A value is trying to be set on a copy of a DataFrame or Series through chained assignment using an inplace method.\n",
      "The behavior will change in pandas 3.0. This inplace method will never work because the intermediate object on which we are setting values always behaves as a copy.\n",
      "\n",
      "For example, when doing 'df[col].method(value, inplace=True)', try using 'df.method({col: value}, inplace=True)' or df[col] = df[col].method(value) instead, to perform the operation inplace on the original object.\n",
      "\n",
      "\n",
      "  df['Cidade'].replace({\n"
     ]
    }
   ],
   "source": [
    "df['Cidade'] = df['Cidade'].str.strip().str.upper()\n",
    "df['Cidade'].replace({\n",
    "    \"SP\": \"SÃO PAULO\",\n",
    "    \"RIO\": \"RIO DE JANEIRO\"\n",
    "}, inplace=True)\n"
   ]
  },
  {
   "cell_type": "code",
   "execution_count": 20,
   "id": "0b79c351",
   "metadata": {},
   "outputs": [
    {
     "name": "stdout",
     "output_type": "stream",
     "text": [
      "count    502.000000\n",
      "mean      44.306773\n",
      "std       15.028300\n",
      "min       18.000000\n",
      "25%       32.000000\n",
      "50%       44.000000\n",
      "75%       57.000000\n",
      "max       70.000000\n",
      "Name: Idade, dtype: float64\n",
      "count      502.000000\n",
      "mean      3103.775976\n",
      "std       3642.503495\n",
      "min        509.890000\n",
      "25%       1824.685000\n",
      "50%       2828.080000\n",
      "75%       3661.232500\n",
      "max      47611.600000\n",
      "Name: Preço, dtype: float64\n",
      "count    502.000000\n",
      "mean       5.754980\n",
      "std        2.861006\n",
      "min        1.000000\n",
      "25%        3.000000\n",
      "50%        6.000000\n",
      "75%        8.000000\n",
      "max       10.000000\n",
      "Name: Quantidade, dtype: float64\n"
     ]
    }
   ],
   "source": [
    "print(df['Idade'].describe())\n",
    "print(df['Preço'].describe())\n",
    "print(df['Quantidade'].describe())\n"
   ]
  },
  {
   "cell_type": "code",
   "execution_count": 18,
   "id": "df8f264a",
   "metadata": {},
   "outputs": [
    {
     "data": {
      "image/png": "[encoded data removed]",
      "text/plain": [
       "<Figure size 1000x600 with 1 Axes>"
      ]
     },
     "metadata": {},
     "output_type": "display_data"
    },
    {
     "data": {
      "image/png": "[encoded data removed]",
      "text/plain": [
       "<Figure size 800x600 with 2 Axes>"
      ]
     },
     "metadata": {},
     "output_type": "display_data"
    }
   ],
   "source": [
    "plt.figure(figsize=(10, 6))\n",
    "plt.subplot(1, 2, 1)\n",
    "plt.hist(df['Idade'], bins=20, color='blue', alpha=0.7)\n",
    "plt.title('Distribuição da Idade')\n",
    "plt.xlabel('Idade')\n",
    "plt.ylabel('Frequência')\n",
    "\n",
    "plt.tight_layout()\n",
    "plt.show()\n",
    "\n",
    "import seaborn as sns\n",
    "import matplotlib.pyplot as plt\n",
    "\n",
    "plt.figure(figsize=(8,6))\n",
    "sns.heatmap(df[['Idade','Preço','Quantidade']].corr(), annot=True, cmap=\"Blues\")\n",
    "plt.title(\"Correlação entre variáveis numéricas\")\n",
    "plt.show()\n"
   ]
  },
  {
   "cell_type": "code",
   "execution_count": 19,
   "id": "81650a42",
   "metadata": {},
   "outputs": [
    {
     "name": "stdout",
     "output_type": "stream",
     "text": [
      "<class 'pandas.core.frame.DataFrame'>\n",
      "Index: 502 entries, 0 to 508\n",
      "Data columns (total 8 columns):\n",
      " #   Column       Non-Null Count  Dtype         \n",
      "---  ------       --------------  -----         \n",
      " 0   ID           502 non-null    int64         \n",
      " 1   Nome         502 non-null    object        \n",
      " 2   Idade        502 non-null    float64       \n",
      " 3   Cidade       502 non-null    object        \n",
      " 4   Produto      502 non-null    object        \n",
      " 5   Preço        502 non-null    float64       \n",
      " 6   Quantidade   502 non-null    int64         \n",
      " 7   Data_Compra  502 non-null    datetime64[ns]\n",
      "dtypes: datetime64[ns](1), float64(2), int64(2), object(3)\n",
      "memory usage: 35.3+ KB\n"
     ]
    }
   ],
   "source": [
    "df.head()\n",
    "df.info()"
   ]
  }
 ],
 "metadata": {
  "kernelspec": {
   "display_name": "base",
   "language": "python",
   "name": "python3"
  },
  "language_info": {
   "codemirror_mode": {
    "name": "ipython",
    "version": 3
   },
   "file_extension": ".py",
   "mimetype": "text/x-python",
   "name": "python",
   "nbconvert_exporter": "python",
   "pygments_lexer": "ipython3",
   "version": "3.12.4"
  }
 },
 "nbformat": 4,
 "nbformat_minor": 5
}
